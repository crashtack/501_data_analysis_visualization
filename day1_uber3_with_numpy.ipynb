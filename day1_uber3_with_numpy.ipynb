{
 "cells": [
  {
   "cell_type": "code",
   "execution_count": 1,
   "metadata": {
    "collapsed": false
   },
   "outputs": [],
   "source": [
    "import numpy as np\n",
    "uber_data = np.genfromtxt(\"data/Uber-Jan-Feb-FOIL.csv\",\n",
    "                       delimiter=\",\",\n",
    "                       dtype=[\"U20\", \"U20\", np.float64, np.float64],\n",
    "                       unpack=True,\n",
    "                       names=True)"
   ]
  },
  {
   "cell_type": "markdown",
   "metadata": {},
   "source": [
    "### uber_by_day_list = [\"1/1/15\", total_active_vehicles, total_trips]"
   ]
  },
  {
   "cell_type": "code",
   "execution_count": 2,
   "metadata": {
    "collapsed": false
   },
   "outputs": [],
   "source": [
    "uber_by_day_list = [[uber_data[0][1], uber_data[0][2], uber_data[0][3]]]\n",
    "for row in uber_data:\n",
    "    if uber_by_day_list[-1][0] == row[1]:\n",
    "        uber_by_day_list[-1][1] = uber_by_day_list[-1][1] + row[2]\n",
    "        uber_by_day_list[-1][2] = uber_by_day_list[-1][2] + row[3]\n",
    "    else:\n",
    "        uber_by_day_list.append([row[1], row[2], row[3]])       "
   ]
  },
  {
   "cell_type": "markdown",
   "metadata": {},
   "source": [
    "## The Average Number of Active Vehicles Total Per Day"
   ]
  },
  {
   "cell_type": "code",
   "execution_count": 3,
   "metadata": {
    "collapsed": false
   },
   "outputs": [
    {
     "name": "stdout",
     "output_type": "stream",
     "text": [
      "Average Number of Active Vehicles Total per Day: 7847.830508474576\n"
     ]
    }
   ],
   "source": [
    "total_active_vehicles = sum([day[1] for day in uber_by_day_list])\n",
    "ave_num_active_vehicles_total = total_active_vehicles / len(uber_by_day_list)\n",
    "print(\"Average Number of Active Vehicles Total per Day: {}\".format(ave_num_active_vehicles_total))"
   ]
  },
  {
   "cell_type": "markdown",
   "metadata": {},
   "source": [
    "### The Numpy Way"
   ]
  },
  {
   "cell_type": "code",
   "execution_count": 4,
   "metadata": {
    "collapsed": false
   },
   "outputs": [
    {
     "name": "stdout",
     "output_type": "stream",
     "text": [
      "Average Number of Active Vehicles per Day: 7847.830508474576\n"
     ]
    }
   ],
   "source": [
    "ave_num_active_vehicles_per_day = np.array([day[1] for day in uber_by_day_list]).mean()\n",
    "print(\"Average Number of Active Vehicles per Day: {}\".format(ave_num_active_vehicles_per_day))"
   ]
  },
  {
   "cell_type": "markdown",
   "metadata": {
    "collapsed": true
   },
   "source": [
    "## The Average Number of Trips Per Day"
   ]
  },
  {
   "cell_type": "code",
   "execution_count": 5,
   "metadata": {
    "collapsed": false
   },
   "outputs": [
    {
     "name": "stdout",
     "output_type": "stream",
     "text": [
      "Average Number of Trips per Day: 70023.08474576271\n"
     ]
    }
   ],
   "source": [
    "ave_num_trips_per_day = np.array([day[2] for day in uber_by_day_list]).mean()\n",
    "print(\"Average Number of Trips per Day: {}\".format(ave_num_trips_per_day))"
   ]
  },
  {
   "cell_type": "markdown",
   "metadata": {
    "collapsed": true
   },
   "source": [
    "## The Average Number of Active Vehicles per Dispatchin Base per Day"
   ]
  },
  {
   "cell_type": "code",
   "execution_count": 6,
   "metadata": {
    "collapsed": false
   },
   "outputs": [
    {
     "data": {
      "text/plain": [
       "[['B02512', 13125.0, 93786.0],\n",
       " ['B02765', 22575.0, 193670.0],\n",
       " ['B02764', 217290.0, 1914449.0],\n",
       " ['B02682', 71431.0, 662509.0],\n",
       " ['B02617', 79758.0, 725025.0],\n",
       " ['B02598', 58653.0, 540791.0]]"
      ]
     },
     "execution_count": 6,
     "metadata": {},
     "output_type": "execute_result"
    }
   ],
   "source": [
    "uber_by_base = []\n",
    "for row in uber_data:\n",
    "    for i, data in enumerate(uber_by_base):\n",
    "        if data[0] == row[0]:\n",
    "            uber_by_base[i][1] = uber_by_base[i][1] + row[2]\n",
    "            uber_by_base[i][2] = uber_by_base[i][2] + row[3]\n",
    "            break\n",
    "    else:\n",
    "        uber_by_base.append([row[0], row[2], row[3]])\n",
    "uber_by_base"
   ]
  },
  {
   "cell_type": "code",
   "execution_count": 7,
   "metadata": {
    "collapsed": false
   },
   "outputs": [
    {
     "name": "stdout",
     "output_type": "stream",
     "text": [
      "Average Number of Vehicles per Base per Day: 1307.4350282485877\n"
     ]
    }
   ],
   "source": [
    "ave_num_veh_base = np.array([base[1] for base in uber_by_base]).mean() / len(uber_by_day_list)\n",
    "print(\"Average Number of Vehicles per Base per Day: {}\".format(ave_num_veh_base))"
   ]
  },
  {
   "cell_type": "markdown",
   "metadata": {},
   "source": [
    "## The Average Number of Trips per Vehicl per Day"
   ]
  },
  {
   "cell_type": "code",
   "execution_count": 8,
   "metadata": {
    "collapsed": false
   },
   "outputs": [
    {
     "name": "stdout",
     "output_type": "stream",
     "text": [
      "Average Number of Trips per Vehicle per Day: 8.844123399363824\n"
     ]
    }
   ],
   "source": [
    "ave_num_trips_veh_day = (np.array([day[2] for day in uber_by_day_list]) / np.array([day[1] for day in uber_by_day_list])).mean()\n",
    "print(\"Average Number of Trips per Vehicle per Day: {}\".format(ave_num_trips_veh_day))"
   ]
  },
  {
   "cell_type": "markdown",
   "metadata": {},
   "source": [
    "## The Standard Deviation of Active Vehicles per Day"
   ]
  },
  {
   "cell_type": "code",
   "execution_count": 9,
   "metadata": {
    "collapsed": false
   },
   "outputs": [
    {
     "name": "stdout",
     "output_type": "stream",
     "text": [
      "The Standard Deviation of Active Vehicles per Day: 1044.3517193194562\n"
     ]
    }
   ],
   "source": [
    "std_active_vehicles_per_day = np.array([day[1] for day in uber_by_day_list]).std()\n",
    "print(\"The Standard Deviation of Active Vehicles per Day: {}\".format(std_active_vehicles_per_day))"
   ]
  },
  {
   "cell_type": "code",
   "execution_count": null,
   "metadata": {
    "collapsed": true
   },
   "outputs": [],
   "source": []
  }
 ],
 "metadata": {
  "kernelspec": {
   "display_name": "Python 3",
   "language": "python",
   "name": "python3"
  },
  "language_info": {
   "codemirror_mode": {
    "name": "ipython",
    "version": 3
   },
   "file_extension": ".py",
   "mimetype": "text/x-python",
   "name": "python",
   "nbconvert_exporter": "python",
   "pygments_lexer": "ipython3",
   "version": "3.5.2"
  }
 },
 "nbformat": 4,
 "nbformat_minor": 1
}
