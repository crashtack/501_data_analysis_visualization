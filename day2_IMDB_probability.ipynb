{
 "cells": [
  {
   "cell_type": "code",
   "execution_count": 1,
   "metadata": {
    "collapsed": true
   },
   "outputs": [],
   "source": [
    "import pandas as pd\n",
    "import pandasql as sql\n",
    "import matplotlib.pyplot as plt\n",
    "import numpy as np"
   ]
  },
  {
   "cell_type": "code",
   "execution_count": 2,
   "metadata": {
    "collapsed": false
   },
   "outputs": [],
   "source": [
    "imdb = pd.read_csv(\"data/movie_metadata.csv\")"
   ]
  },
  {
   "cell_type": "code",
   "execution_count": 3,
   "metadata": {
    "collapsed": false
   },
   "outputs": [
    {
     "data": {
      "text/plain": [
       "pandas.core.frame.DataFrame"
      ]
     },
     "execution_count": 3,
     "metadata": {},
     "output_type": "execute_result"
    }
   ],
   "source": [
    "type(imdb)"
   ]
  },
  {
   "cell_type": "markdown",
   "metadata": {},
   "source": [
    "## Movie was longer then an hour? Two hours?"
   ]
  },
  {
   "cell_type": "code",
   "execution_count": 4,
   "metadata": {
    "collapsed": false
   },
   "outputs": [
    {
     "name": "stdout",
     "output_type": "stream",
     "text": [
      "Longer then 1 hour: 0.978321400159109\n",
      "Longer then 2 hour: 0.42442322991249004\n"
     ]
    }
   ],
   "source": [
    "movie_length = sql.sqldf(\"SELECT duration FROM imdb\", locals())\n",
    "movie_length.dropna(inplace=True)\n",
    "\n",
    "\n",
    "one_hour = 0\n",
    "two_hour = 0\n",
    "for dec in movie_length[\"duration\"]:\n",
    "    if dec > 60:\n",
    "        one_hour += 1\n",
    "    if dec > 120:\n",
    "        two_hour += 2\n",
    "    \n",
    "prob_longer_1_hour = one_hour / movie_length[\"duration\"].count()\n",
    "prob_longer_2_hour = two_hour / movie_length[\"duration\"].count() \n",
    "print(\"Longer then 1 hour: {}\".format(prob_longer_1_hour))\n",
    "print(\"Longer then 2 hour: {}\".format(prob_longer_2_hour))"
   ]
  },
  {
   "cell_type": "markdown",
   "metadata": {},
   "source": [
    "## Movie was directed by Steven Spielberg"
   ]
  },
  {
   "cell_type": "code",
   "execution_count": 5,
   "metadata": {
    "collapsed": false
   },
   "outputs": [
    {
     "name": "stdout",
     "output_type": "stream",
     "text": [
      "Prob Movie was directed by Stephen Speilberg: 0.005155661312710688\n"
     ]
    }
   ],
   "source": [
    "director = sql.sqldf(\"SELECT director_name FROM imdb\", locals())\n",
    "count = 0\n",
    "for direc in director['director_name']:\n",
    "#     print(direc)\n",
    "    if direc == \"Steven Spielberg\":\n",
    "        count += 1\n",
    "\n",
    "prob_spielberg = count / len(director['director_name'])\n",
    "print(\"Prob Movie was directed by Stephen Speilberg: {}\".format(prob_spielberg))"
   ]
  },
  {
   "cell_type": "markdown",
   "metadata": {},
   "source": [
    "## Movie directed by Clint Eastwood will gross under budget?"
   ]
  },
  {
   "cell_type": "code",
   "execution_count": 6,
   "metadata": {
    "collapsed": false
   },
   "outputs": [],
   "source": [
    "# director = imdb['director_name'][~pd.isnull(imdb['director_name'])]\n",
    "\n",
    "rates = imdb[['imdb_score', 'gross', 'budget']]\n",
    "\n",
    "count = 0\n",
    "for i in range(len(imdb)):\n",
    "    pass\n",
    "#     print(imdb.loc[i])\n",
    "#     if movie[\"gross\"] < movie['budget']:\n",
    "#         count += 1"
   ]
  },
  {
   "cell_type": "code",
   "execution_count": 21,
   "metadata": {
    "collapsed": false
   },
   "outputs": [
    {
     "name": "stdout",
     "output_type": "stream",
     "text": [
      "Gross < Budget: 0.35\n"
     ]
    },
    {
     "data": {
      "text/plain": [
       "movie_title    7\n",
       "dtype: int64"
      ]
     },
     "execution_count": 21,
     "metadata": {},
     "output_type": "execute_result"
    }
   ],
   "source": [
    "gross_low = sql.sqldf(\"SELECT movie_title FROM imdb where director_name == 'Clint Eastwood' and gross < budget\", locals())\n",
    "all_CE = sql.sqldf(\"SELECT movie_title FROM imdb where director_name == 'Clint Eastwood'\", locals())\n",
    "prob_lose_money = float(gross_low.count()) / float(all_CE.count())\n",
    "print(\"Gross < Budget: {}\".format(prob_lose_money))\n",
    "gross_low.count()\n"
   ]
  },
  {
   "cell_type": "markdown",
   "metadata": {},
   "source": [
    "## Movie generaly grossed more then it's budget?"
   ]
  },
  {
   "cell_type": "code",
   "execution_count": 8,
   "metadata": {
    "collapsed": false
   },
   "outputs": [],
   "source": [
    "gross_low = sql.sqldf(\"SELECT movie_title, gross, budget FROM imdb WHERE gross >= budget\", locals())\n",
    "# loose_money = int(gross_low.count()) / imdb['gross'].count()\n",
    "# loose_money\n",
    "# print(\"Gross < Budget: {}\".format(loose_money))"
   ]
  },
  {
   "cell_type": "code",
   "execution_count": 9,
   "metadata": {
    "collapsed": false
   },
   "outputs": [
    {
     "data": {
      "text/plain": [
       "False"
      ]
     },
     "execution_count": 9,
     "metadata": {},
     "output_type": "execute_result"
    }
   ],
   "source": [
    "gross_low.head(20)\n",
    "gross_low.budget.hasnans"
   ]
  },
  {
   "cell_type": "markdown",
   "metadata": {},
   "source": [
    "## Movie grossed over the average gross?"
   ]
  },
  {
   "cell_type": "code",
   "execution_count": 10,
   "metadata": {
    "collapsed": false
   },
   "outputs": [
    {
     "name": "stdout",
     "output_type": "stream",
     "text": [
      "Gross over the average gross: movie_title    0.262939\n",
      "dtype: float64\n"
     ]
    }
   ],
   "source": [
    "gross = sql.sqldf(\"SELECT gross FROM imdb\")\n",
    "gross.mean()\n",
    "gross_high = sql.sqldf(\"SELECT movie_title FROM imdb WHERE gross > 4.846841e+07\", locals())\n",
    "prob_higher_then_average_gross = gross_high.count() / imdb['movie_title'].count()\n",
    "print(\"Gross over the average gross: {}\".format(prob_higher_then_average_gross))"
   ]
  },
  {
   "cell_type": "markdown",
   "metadata": {},
   "source": [
    "## False Positive and False Negative rate?"
   ]
  },
  {
   "cell_type": "code",
   "execution_count": 11,
   "metadata": {
    "collapsed": false
   },
   "outputs": [
    {
     "name": "stdout",
     "output_type": "stream",
     "text": [
      "False Positive: 0.3366107576633892\n",
      "False Negative: 0.0924053142970454\n"
     ]
    }
   ],
   "source": [
    "high_rating_low_gross = sql.sqldf(\"SELECT imdb_score FROM imdb WHERE gross < budget and imdb_score > 6\", locals())\n",
    "low_rating_high_gross = sql.sqldf(\"SELECT imdb_score FROM imdb WHERE gross > budget and imdb_score < 6\", locals())\n",
    "num_mov = sql.sqldf(\"SELECT imdb_score FROM imdb WHERE imdb_score > 6\", locals())\n",
    "\n",
    "false_positive = high_rating_low_gross.count() / num_mov.count()\n",
    "low_rating_high_gross = low_rating_high_gross.count() / imdb['movie_title'].count()\n",
    "\n",
    "print(\"False Positive: {}\".format(float(false_positive)))\n",
    "print(\"False Negative: {}\".format(float(low_rating_high_gross)))\n",
    "# high_rating_low_gross"
   ]
  },
  {
   "cell_type": "code",
   "execution_count": 12,
   "metadata": {
    "collapsed": false
   },
   "outputs": [
    {
     "data": {
      "text/plain": [
       "Index(['color', 'director_name', 'num_critic_for_reviews', 'duration',\n",
       "       'director_facebook_likes', 'actor_3_facebook_likes', 'actor_2_name',\n",
       "       'actor_1_facebook_likes', 'gross', 'genres', 'actor_1_name',\n",
       "       'movie_title', 'num_voted_users', 'cast_total_facebook_likes',\n",
       "       'actor_3_name', 'facenumber_in_poster', 'plot_keywords',\n",
       "       'movie_imdb_link', 'num_user_for_reviews', 'language', 'country',\n",
       "       'content_rating', 'budget', 'title_year', 'actor_2_facebook_likes',\n",
       "       'imdb_score', 'aspect_ratio', 'movie_facebook_likes'],\n",
       "      dtype='object')"
      ]
     },
     "execution_count": 12,
     "metadata": {},
     "output_type": "execute_result"
    }
   ],
   "source": [
    "imdb.columns"
   ]
  },
  {
   "cell_type": "code",
   "execution_count": 22,
   "metadata": {
    "collapsed": false
   },
   "outputs": [
    {
     "data": {
      "image/png": "[encoded data removed]",
      "text/plain": [
       "<matplotlib.figure.Figure at 0x7f30f3075780>"
      ]
     },
     "metadata": {},
     "output_type": "display_data"
    },
    {
     "data": {
      "text/plain": [
       "count    5043.000000\n",
       "mean        6.442138\n",
       "std         1.125116\n",
       "min         1.600000\n",
       "25%         5.800000\n",
       "50%         6.600000\n",
       "75%         7.200000\n",
       "max         9.500000\n",
       "Name: imdb_score, dtype: float64"
      ]
     },
     "execution_count": 22,
     "metadata": {},
     "output_type": "execute_result"
    }
   ],
   "source": [
    "data = imdb.imdb_score\n",
    "plt.figure(figsize=(10, 3))\n",
    "plt.hist(data, bins=np.arange(0, 10, .2), color='green')\n",
    "plt.xlabel(\"IMDB Score\")\n",
    "plt.show()\n",
    "data.describe()"
   ]
  },
  {
   "cell_type": "markdown",
   "metadata": {},
   "source": [
    "## IMDB Rating system distribution"
   ]
  },
  {
   "cell_type": "code",
   "execution_count": 14,
   "metadata": {
    "collapsed": false
   },
   "outputs": [
    {
     "data": {
      "image/png": "[encoded data removed]",
      "text/plain": [
       "<matplotlib.figure.Figure at 0x7f30e4ce8c50>"
      ]
     },
     "metadata": {},
     "output_type": "display_data"
    },
    {
     "name": "stdout",
     "output_type": "stream",
     "text": [
      "Median is 0.1578623835018833 Standard Deviations Higher then the Mean\n"
     ]
    }
   ],
   "source": [
    "heights, edges = np.histogram(data, bins=np.arange(0, 10, .20))\n",
    "probs = heights / sum(heights)\n",
    "plt.figure(figsize=(10,3))\n",
    "plt.bar(edges[:-1], probs, width=edges[1] - edges[0], color=\"green\")\n",
    "h1 = plt.plot([data.mean() - data.std(), data.mean() - data.std()],[0, 0.14], color=\"blue\", label=\"+/- 1 std\")\n",
    "h2 = plt.plot([data.mean() + data.std(), data.mean() + data.std()],[0, 0.14], color='blue')\n",
    "h3 = plt.plot([data.median(), data.median()], [0, 0.14], color='red', label=\"median\")\n",
    "h4 = plt.plot([data.mean(), data.mean()], [0, 0.14], color='black', label=\"mean\")\n",
    "plt.legend(loc=\"upper left\", shadow=True)\n",
    "plt.show()\n",
    "print(\"Median is {} Standard Deviations Higher then the Mean\".format(data.median() - data.mean()))\n",
    "# data.describe()"
   ]
  },
  {
   "cell_type": "code",
   "execution_count": 15,
   "metadata": {
    "collapsed": false
   },
   "outputs": [
    {
     "data": {
      "image/png": "[encoded data removed]",
      "text/plain": [
       "<matplotlib.figure.Figure at 0x7f30b58f8da0>"
      ]
     },
     "metadata": {},
     "output_type": "display_data"
    }
   ],
   "source": [
    "heights, edges = np.histogram(data, bins=np.arange(0, 10, .1))\n",
    "probs = heights / sum(heights)\n",
    "plt.figure(figsize=(10,3))\n",
    "plt.bar(edges[:-1], probs.cumsum(), width=edges[1] - edges[0], color=\"green\")\n",
    "plt.plot([0, 10], [.5, .5])\n",
    "plt.plot([0, 10], [.75, .75], color=\"red\")\n",
    "plt.show()"
   ]
  },
  {
   "cell_type": "markdown",
   "metadata": {},
   "source": [
    "## Movie Budgets"
   ]
  },
  {
   "cell_type": "code",
   "execution_count": 19,
   "metadata": {
    "collapsed": false
   },
   "outputs": [
    {
     "data": {
      "image/png": "[encoded data removed]",
      "text/plain": [
       "<matplotlib.figure.Figure at 0x7f30e4cf2978>"
      ]
     },
     "metadata": {},
     "output_type": "display_data"
    },
    {
     "data": {
      "text/plain": [
       "count    4.551000e+03\n",
       "mean     3.975262e+07\n",
       "std      2.061149e+08\n",
       "min      2.180000e+02\n",
       "25%      6.000000e+06\n",
       "50%      2.000000e+07\n",
       "75%      4.500000e+07\n",
       "max      1.221550e+10\n",
       "Name: budget, dtype: float64"
      ]
     },
     "execution_count": 19,
     "metadata": {},
     "output_type": "execute_result"
    }
   ],
   "source": [
    "data = imdb.budget\n",
    "data.dropna(inplace=True)\n",
    "# data = loans.StatedMonthlyIncome[(loans.StatedMonthlyIncome > 100) & (loans.StatedMonthlyIncome < 1E6)]\n",
    "plt.figure(figsize=(10, 3))\n",
    "plt.hist(data, bins=np.logspace(0, 10, 100), color=\"green\")\n",
    "plt.xlabel(\"Budget\")\n",
    "plt.ylabel(\"Number of Movies\")\n",
    "plt.xscale('log')\n",
    "plt.show()\n",
    "data.describe()"
   ]
  },
  {
   "cell_type": "code",
   "execution_count": 20,
   "metadata": {
    "collapsed": false
   },
   "outputs": [
    {
     "data": {
      "text/plain": [
       "0        True\n",
       "1        True\n",
       "2        True\n",
       "3        True\n",
       "4       False\n",
       "5        True\n",
       "6        True\n",
       "7       False\n",
       "8        True\n",
       "9       False\n",
       "10       True\n",
       "11       True\n",
       "12       True\n",
       "13       True\n",
       "14       True\n",
       "15       True\n",
       "16       True\n",
       "17       True\n",
       "18       True\n",
       "19       True\n",
       "20      False\n",
       "21       True\n",
       "22       True\n",
       "23      False\n",
       "24      False\n",
       "25       True\n",
       "26      False\n",
       "27       True\n",
       "28       True\n",
       "29       True\n",
       "        ...  \n",
       "5013    False\n",
       "5014     True\n",
       "5015    False\n",
       "5016    False\n",
       "5017    False\n",
       "5018    False\n",
       "5019    False\n",
       "5020    False\n",
       "5021    False\n",
       "5022    False\n",
       "5023    False\n",
       "5024    False\n",
       "5025    False\n",
       "5026    False\n",
       "5027    False\n",
       "5028    False\n",
       "5029    False\n",
       "5030    False\n",
       "5031    False\n",
       "5032    False\n",
       "5033    False\n",
       "5034    False\n",
       "5035     True\n",
       "5036    False\n",
       "5037    False\n",
       "5038    False\n",
       "5039    False\n",
       "5040    False\n",
       "5041    False\n",
       "5042    False\n",
       "Name: genres, dtype: bool"
      ]
     },
     "execution_count": 20,
     "metadata": {},
     "output_type": "execute_result"
    }
   ],
   "source": [
    "imdb.genres.map(lambda x: \"Action\" in x)"
   ]
  },
  {
   "cell_type": "code",
   "execution_count": null,
   "metadata": {
    "collapsed": true
   },
   "outputs": [],
   "source": []
  }
 ],
 "metadata": {
  "kernelspec": {
   "display_name": "Python 3",
   "language": "python",
   "name": "python3"
  },
  "language_info": {
   "codemirror_mode": {
    "name": "ipython",
    "version": 3
   },
   "file_extension": ".py",
   "mimetype": "text/x-python",
   "name": "python",
   "nbconvert_exporter": "python",
   "pygments_lexer": "ipython3",
   "version": "3.5.2"
  }
 },
 "nbformat": 4,
 "nbformat_minor": 1
}
