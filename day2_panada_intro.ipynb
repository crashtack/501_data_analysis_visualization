{
 "cells": [
  {
   "cell_type": "markdown",
   "metadata": {},
   "source": [
    "# Pandas Demo"
   ]
  },
  {
   "cell_type": "code",
   "execution_count": 1,
   "metadata": {
    "collapsed": true
   },
   "outputs": [],
   "source": [
    "import pandas as pd\n",
    "import random"
   ]
  },
  {
   "cell_type": "code",
   "execution_count": 2,
   "metadata": {
    "collapsed": false
   },
   "outputs": [
    {
     "data": {
      "text/plain": [
       "0     1156\n",
       "1       36\n",
       "2     1156\n",
       "4     1156\n",
       "6      441\n",
       "9     1936\n",
       "12     484\n",
       "14     361\n",
       "15    1681\n",
       "17     441\n",
       "19    1764\n",
       "dtype: int64"
      ]
     },
     "execution_count": 2,
     "metadata": {},
     "output_type": "execute_result"
    }
   ],
   "source": [
    "pd.Series([1,2,3,4,5,6,7])\n",
    "rannos = pd.Series(random.randint(0,100) for i in range (20))\n",
    "rannos[rannos < 50]**2"
   ]
  },
  {
   "cell_type": "code",
   "execution_count": 3,
   "metadata": {
    "collapsed": false
   },
   "outputs": [
    {
     "data": {
      "text/plain": [
       "count    20.000000\n",
       "mean     49.050000\n",
       "std      27.172887\n",
       "min       6.000000\n",
       "25%      31.000000\n",
       "50%      43.000000\n",
       "75%      63.000000\n",
       "max      98.000000\n",
       "dtype: float64"
      ]
     },
     "execution_count": 3,
     "metadata": {},
     "output_type": "execute_result"
    }
   ],
   "source": [
    "rannos.describe()\n"
   ]
  },
  {
   "cell_type": "code",
   "execution_count": 4,
   "metadata": {
    "collapsed": false
   },
   "outputs": [
    {
     "data": {
      "text/plain": [
       "0     34\n",
       "1      6\n",
       "2     34\n",
       "3     59\n",
       "4     34\n",
       "5     75\n",
       "6     21\n",
       "7     55\n",
       "8     87\n",
       "9     44\n",
       "10    50\n",
       "11    59\n",
       "12    22\n",
       "13    95\n",
       "14    19\n",
       "15    41\n",
       "16    98\n",
       "17    21\n",
       "18    85\n",
       "19    42\n",
       "dtype: int64"
      ]
     },
     "execution_count": 4,
     "metadata": {},
     "output_type": "execute_result"
    }
   ],
   "source": [
    "rannos.abs()\n"
   ]
  },
  {
   "cell_type": "code",
   "execution_count": 5,
   "metadata": {
    "collapsed": true
   },
   "outputs": [],
   "source": [
    "states_dict = {\n",
    "    \"states\": [\"New York\", \"California\", \"Texas\", \"Florida\", \"New Jersey\", \"Washington\"],\n",
    "    \"capital\": [\"New York City\", \"Sacramento\", \"Austin\", \"Tallahassee\", \"Trenton\", \"Olympia\"],\n",
    "    \"population\": [19750000, 38800000, 26960000, 19890000, 8938000, 7062000]\n",
    "}"
   ]
  },
  {
   "cell_type": "code",
   "execution_count": 6,
   "metadata": {
    "collapsed": false
   },
   "outputs": [
    {
     "data": {
      "text/plain": [
       "0    19750000\n",
       "1    38800000\n",
       "2    26960000\n",
       "3    19890000\n",
       "4     8938000\n",
       "5     7062000\n",
       "Name: population, dtype: int64"
      ]
     },
     "execution_count": 6,
     "metadata": {},
     "output_type": "execute_result"
    }
   ],
   "source": [
    "states_df = pd.DataFrame(states_dict)\n",
    "states_df.population"
   ]
  },
  {
   "cell_type": "code",
   "execution_count": 7,
   "metadata": {
    "collapsed": false
   },
   "outputs": [
    {
     "data": {
      "text/html": [
       "<div>\n",
       "<table border=\"1\" class=\"dataframe\">\n",
       "  <thead>\n",
       "    <tr style=\"text-align: right;\">\n",
       "      <th></th>\n",
       "      <th>states</th>\n",
       "      <th>capital</th>\n",
       "    </tr>\n",
       "  </thead>\n",
       "  <tbody>\n",
       "    <tr>\n",
       "      <th>0</th>\n",
       "      <td>New York</td>\n",
       "      <td>New York City</td>\n",
       "    </tr>\n",
       "    <tr>\n",
       "      <th>1</th>\n",
       "      <td>California</td>\n",
       "      <td>Sacramento</td>\n",
       "    </tr>\n",
       "    <tr>\n",
       "      <th>2</th>\n",
       "      <td>Texas</td>\n",
       "      <td>Austin</td>\n",
       "    </tr>\n",
       "    <tr>\n",
       "      <th>3</th>\n",
       "      <td>Florida</td>\n",
       "      <td>Tallahassee</td>\n",
       "    </tr>\n",
       "    <tr>\n",
       "      <th>4</th>\n",
       "      <td>New Jersey</td>\n",
       "      <td>Trenton</td>\n",
       "    </tr>\n",
       "    <tr>\n",
       "      <th>5</th>\n",
       "      <td>Washington</td>\n",
       "      <td>Olympia</td>\n",
       "    </tr>\n",
       "  </tbody>\n",
       "</table>\n",
       "</div>"
      ],
      "text/plain": [
       "       states        capital\n",
       "0    New York  New York City\n",
       "1  California     Sacramento\n",
       "2       Texas         Austin\n",
       "3     Florida    Tallahassee\n",
       "4  New Jersey        Trenton\n",
       "5  Washington        Olympia"
      ]
     },
     "execution_count": 7,
     "metadata": {},
     "output_type": "execute_result"
    }
   ],
   "source": [
    "states_df[[\"states\", \"capital\"]]"
   ]
  },
  {
   "cell_type": "code",
   "execution_count": 8,
   "metadata": {
    "collapsed": false
   },
   "outputs": [
    {
     "data": {
      "text/plain": [
       "capital       Tallahassee\n",
       "population       19890000\n",
       "states            Florida\n",
       "Name: 3, dtype: object"
      ]
     },
     "execution_count": 8,
     "metadata": {},
     "output_type": "execute_result"
    }
   ],
   "source": [
    "states_df.loc[3]"
   ]
  },
  {
   "cell_type": "markdown",
   "metadata": {},
   "source": [
    "## Select Multiple columns"
   ]
  },
  {
   "cell_type": "code",
   "execution_count": 9,
   "metadata": {
    "collapsed": false
   },
   "outputs": [
    {
     "data": {
      "text/html": [
       "<div>\n",
       "<table border=\"1\" class=\"dataframe\">\n",
       "  <thead>\n",
       "    <tr style=\"text-align: right;\">\n",
       "      <th></th>\n",
       "      <th>capital</th>\n",
       "      <th>population</th>\n",
       "      <th>states</th>\n",
       "    </tr>\n",
       "  </thead>\n",
       "  <tbody>\n",
       "    <tr>\n",
       "      <th>0</th>\n",
       "      <td>New York City</td>\n",
       "      <td>19750000</td>\n",
       "      <td>New York</td>\n",
       "    </tr>\n",
       "    <tr>\n",
       "      <th>2</th>\n",
       "      <td>Austin</td>\n",
       "      <td>26960000</td>\n",
       "      <td>Texas</td>\n",
       "    </tr>\n",
       "    <tr>\n",
       "      <th>4</th>\n",
       "      <td>Trenton</td>\n",
       "      <td>8938000</td>\n",
       "      <td>New Jersey</td>\n",
       "    </tr>\n",
       "  </tbody>\n",
       "</table>\n",
       "</div>"
      ],
      "text/plain": [
       "         capital  population      states\n",
       "0  New York City    19750000    New York\n",
       "2         Austin    26960000       Texas\n",
       "4        Trenton     8938000  New Jersey"
      ]
     },
     "execution_count": 9,
     "metadata": {},
     "output_type": "execute_result"
    }
   ],
   "source": [
    "states_df.loc[[0, 2, 4]]"
   ]
  },
  {
   "cell_type": "code",
   "execution_count": 10,
   "metadata": {
    "collapsed": false
   },
   "outputs": [],
   "source": [
    "states_df.set_index(\"states\")\n",
    "states_df.set_index(\"states\", inplace=True) # inplace=True muteates the original dataframe\n"
   ]
  },
  {
   "cell_type": "code",
   "execution_count": 11,
   "metadata": {
    "collapsed": false
   },
   "outputs": [
    {
     "data": {
      "text/html": [
       "<div>\n",
       "<table border=\"1\" class=\"dataframe\">\n",
       "  <thead>\n",
       "    <tr style=\"text-align: right;\">\n",
       "      <th></th>\n",
       "      <th>capital</th>\n",
       "      <th>population</th>\n",
       "    </tr>\n",
       "    <tr>\n",
       "      <th>states</th>\n",
       "      <th></th>\n",
       "      <th></th>\n",
       "    </tr>\n",
       "  </thead>\n",
       "  <tbody>\n",
       "    <tr>\n",
       "      <th>New York</th>\n",
       "      <td>New York City</td>\n",
       "      <td>19750000</td>\n",
       "    </tr>\n",
       "    <tr>\n",
       "      <th>California</th>\n",
       "      <td>Sacramento</td>\n",
       "      <td>38800000</td>\n",
       "    </tr>\n",
       "    <tr>\n",
       "      <th>Texas</th>\n",
       "      <td>Austin</td>\n",
       "      <td>26960000</td>\n",
       "    </tr>\n",
       "    <tr>\n",
       "      <th>Florida</th>\n",
       "      <td>Tallahassee</td>\n",
       "      <td>19890000</td>\n",
       "    </tr>\n",
       "    <tr>\n",
       "      <th>New Jersey</th>\n",
       "      <td>Trenton</td>\n",
       "      <td>8938000</td>\n",
       "    </tr>\n",
       "    <tr>\n",
       "      <th>Washington</th>\n",
       "      <td>Olympia</td>\n",
       "      <td>7062000</td>\n",
       "    </tr>\n",
       "  </tbody>\n",
       "</table>\n",
       "</div>"
      ],
      "text/plain": [
       "                  capital  population\n",
       "states                               \n",
       "New York    New York City    19750000\n",
       "California     Sacramento    38800000\n",
       "Texas              Austin    26960000\n",
       "Florida       Tallahassee    19890000\n",
       "New Jersey        Trenton     8938000\n",
       "Washington        Olympia     7062000"
      ]
     },
     "execution_count": 11,
     "metadata": {},
     "output_type": "execute_result"
    }
   ],
   "source": [
    "states_df"
   ]
  },
  {
   "cell_type": "code",
   "execution_count": 12,
   "metadata": {
    "collapsed": false
   },
   "outputs": [
    {
     "name": "stderr",
     "output_type": "stream",
     "text": [
      "/home/banksd/Documents/Projects/501-data-analysis/lib/python3.5/site-packages/pandas/core/indexing.py:140: SettingWithCopyWarning: \n",
      "A value is trying to be set on a copy of a slice from a DataFrame\n",
      "\n",
      "See the caveats in the documentation: http://pandas.pydata.org/pandas-docs/stable/indexing.html#indexing-view-versus-copy\n",
      "  self._setitem_with_indexer(indexer, value)\n"
     ]
    }
   ],
   "source": [
    "states_df['capital'].loc[\"New York\"] = \"Albany\""
   ]
  },
  {
   "cell_type": "code",
   "execution_count": 13,
   "metadata": {
    "collapsed": false
   },
   "outputs": [
    {
     "data": {
      "text/html": [
       "<div>\n",
       "<table border=\"1\" class=\"dataframe\">\n",
       "  <thead>\n",
       "    <tr style=\"text-align: right;\">\n",
       "      <th></th>\n",
       "      <th>capital</th>\n",
       "      <th>population</th>\n",
       "    </tr>\n",
       "    <tr>\n",
       "      <th>states</th>\n",
       "      <th></th>\n",
       "      <th></th>\n",
       "    </tr>\n",
       "  </thead>\n",
       "  <tbody>\n",
       "    <tr>\n",
       "      <th>New York</th>\n",
       "      <td>Albany</td>\n",
       "      <td>19750000</td>\n",
       "    </tr>\n",
       "    <tr>\n",
       "      <th>California</th>\n",
       "      <td>Sacramento</td>\n",
       "      <td>38800000</td>\n",
       "    </tr>\n",
       "    <tr>\n",
       "      <th>Texas</th>\n",
       "      <td>Austin</td>\n",
       "      <td>26960000</td>\n",
       "    </tr>\n",
       "    <tr>\n",
       "      <th>Florida</th>\n",
       "      <td>Tallahassee</td>\n",
       "      <td>19890000</td>\n",
       "    </tr>\n",
       "    <tr>\n",
       "      <th>New Jersey</th>\n",
       "      <td>Trenton</td>\n",
       "      <td>8938000</td>\n",
       "    </tr>\n",
       "    <tr>\n",
       "      <th>Washington</th>\n",
       "      <td>Olympia</td>\n",
       "      <td>7062000</td>\n",
       "    </tr>\n",
       "  </tbody>\n",
       "</table>\n",
       "</div>"
      ],
      "text/plain": [
       "                capital  population\n",
       "states                             \n",
       "New York         Albany    19750000\n",
       "California   Sacramento    38800000\n",
       "Texas            Austin    26960000\n",
       "Florida     Tallahassee    19890000\n",
       "New Jersey      Trenton     8938000\n",
       "Washington      Olympia     7062000"
      ]
     },
     "execution_count": 13,
     "metadata": {},
     "output_type": "execute_result"
    }
   ],
   "source": [
    "states_df\n"
   ]
  },
  {
   "cell_type": "code",
   "execution_count": 14,
   "metadata": {
    "collapsed": false
   },
   "outputs": [
    {
     "data": {
      "text/plain": [
       "states\n",
       "New York          Albany\n",
       "California    Sacramento\n",
       "Texas             Austin\n",
       "Name: capital, dtype: object"
      ]
     },
     "execution_count": 14,
     "metadata": {},
     "output_type": "execute_result"
    }
   ],
   "source": [
    "states_df[\"capital\"].loc[\"New York\": \"Texas\"]"
   ]
  },
  {
   "cell_type": "code",
   "execution_count": 15,
   "metadata": {
    "collapsed": false
   },
   "outputs": [
    {
     "data": {
      "text/html": [
       "<div>\n",
       "<table border=\"1\" class=\"dataframe\">\n",
       "  <thead>\n",
       "    <tr style=\"text-align: right;\">\n",
       "      <th></th>\n",
       "      <th>capital</th>\n",
       "      <th>population</th>\n",
       "    </tr>\n",
       "    <tr>\n",
       "      <th>states</th>\n",
       "      <th></th>\n",
       "      <th></th>\n",
       "    </tr>\n",
       "  </thead>\n",
       "  <tbody>\n",
       "    <tr>\n",
       "      <th>New York</th>\n",
       "      <td>Albany</td>\n",
       "      <td>19750000</td>\n",
       "    </tr>\n",
       "    <tr>\n",
       "      <th>California</th>\n",
       "      <td>Sacramento</td>\n",
       "      <td>38800000</td>\n",
       "    </tr>\n",
       "    <tr>\n",
       "      <th>Texas</th>\n",
       "      <td>Austin</td>\n",
       "      <td>26960000</td>\n",
       "    </tr>\n",
       "    <tr>\n",
       "      <th>Florida</th>\n",
       "      <td>Tallahassee</td>\n",
       "      <td>19890000</td>\n",
       "    </tr>\n",
       "    <tr>\n",
       "      <th>New Jersey</th>\n",
       "      <td>Trenton</td>\n",
       "      <td>8938000</td>\n",
       "    </tr>\n",
       "    <tr>\n",
       "      <th>Washington</th>\n",
       "      <td>Olympia</td>\n",
       "      <td>7062000</td>\n",
       "    </tr>\n",
       "  </tbody>\n",
       "</table>\n",
       "</div>"
      ],
      "text/plain": [
       "                capital  population\n",
       "states                             \n",
       "New York         Albany    19750000\n",
       "California   Sacramento    38800000\n",
       "Texas            Austin    26960000\n",
       "Florida     Tallahassee    19890000\n",
       "New Jersey      Trenton     8938000\n",
       "Washington      Olympia     7062000"
      ]
     },
     "execution_count": 15,
     "metadata": {},
     "output_type": "execute_result"
    }
   ],
   "source": [
    "# states_df.reset_index(inplace=True)\n",
    "states_df"
   ]
  },
  {
   "cell_type": "code",
   "execution_count": 16,
   "metadata": {
    "collapsed": false
   },
   "outputs": [
    {
     "data": {
      "text/html": [
       "<div>\n",
       "<table border=\"1\" class=\"dataframe\">\n",
       "  <thead>\n",
       "    <tr style=\"text-align: right;\">\n",
       "      <th></th>\n",
       "      <th>population</th>\n",
       "    </tr>\n",
       "  </thead>\n",
       "  <tbody>\n",
       "    <tr>\n",
       "      <th>count</th>\n",
       "      <td>6.000000e+00</td>\n",
       "    </tr>\n",
       "    <tr>\n",
       "      <th>mean</th>\n",
       "      <td>2.023333e+07</td>\n",
       "    </tr>\n",
       "    <tr>\n",
       "      <th>std</th>\n",
       "      <td>1.175916e+07</td>\n",
       "    </tr>\n",
       "    <tr>\n",
       "      <th>min</th>\n",
       "      <td>7.062000e+06</td>\n",
       "    </tr>\n",
       "    <tr>\n",
       "      <th>25%</th>\n",
       "      <td>1.164100e+07</td>\n",
       "    </tr>\n",
       "    <tr>\n",
       "      <th>50%</th>\n",
       "      <td>1.982000e+07</td>\n",
       "    </tr>\n",
       "    <tr>\n",
       "      <th>75%</th>\n",
       "      <td>2.519250e+07</td>\n",
       "    </tr>\n",
       "    <tr>\n",
       "      <th>max</th>\n",
       "      <td>3.880000e+07</td>\n",
       "    </tr>\n",
       "  </tbody>\n",
       "</table>\n",
       "</div>"
      ],
      "text/plain": [
       "         population\n",
       "count  6.000000e+00\n",
       "mean   2.023333e+07\n",
       "std    1.175916e+07\n",
       "min    7.062000e+06\n",
       "25%    1.164100e+07\n",
       "50%    1.982000e+07\n",
       "75%    2.519250e+07\n",
       "max    3.880000e+07"
      ]
     },
     "execution_count": 16,
     "metadata": {},
     "output_type": "execute_result"
    }
   ],
   "source": [
    "states_df.describe()"
   ]
  },
  {
   "cell_type": "code",
   "execution_count": 19,
   "metadata": {
    "collapsed": false
   },
   "outputs": [
    {
     "data": {
      "text/html": [
       "<div>\n",
       "<table border=\"1\" class=\"dataframe\">\n",
       "  <thead>\n",
       "    <tr style=\"text-align: right;\">\n",
       "      <th></th>\n",
       "      <th>capital city</th>\n",
       "      <th>population</th>\n",
       "    </tr>\n",
       "    <tr>\n",
       "      <th>states</th>\n",
       "      <th></th>\n",
       "      <th></th>\n",
       "    </tr>\n",
       "  </thead>\n",
       "  <tbody>\n",
       "    <tr>\n",
       "      <th>NY</th>\n",
       "      <td>Albany</td>\n",
       "      <td>19750000</td>\n",
       "    </tr>\n",
       "    <tr>\n",
       "      <th>CA</th>\n",
       "      <td>Sacramento</td>\n",
       "      <td>38800000</td>\n",
       "    </tr>\n",
       "    <tr>\n",
       "      <th>TX</th>\n",
       "      <td>Austin</td>\n",
       "      <td>26960000</td>\n",
       "    </tr>\n",
       "    <tr>\n",
       "      <th>FL</th>\n",
       "      <td>Tallahassee</td>\n",
       "      <td>19890000</td>\n",
       "    </tr>\n",
       "    <tr>\n",
       "      <th>NJ</th>\n",
       "      <td>Trenton</td>\n",
       "      <td>8938000</td>\n",
       "    </tr>\n",
       "    <tr>\n",
       "      <th>WA</th>\n",
       "      <td>Olympia</td>\n",
       "      <td>7062000</td>\n",
       "    </tr>\n",
       "  </tbody>\n",
       "</table>\n",
       "</div>"
      ],
      "text/plain": [
       "       capital city  population\n",
       "states                         \n",
       "NY           Albany    19750000\n",
       "CA       Sacramento    38800000\n",
       "TX           Austin    26960000\n",
       "FL      Tallahassee    19890000\n",
       "NJ          Trenton     8938000\n",
       "WA          Olympia     7062000"
      ]
     },
     "execution_count": 19,
     "metadata": {},
     "output_type": "execute_result"
    }
   ],
   "source": [
    "states_df.rename(index={\n",
    "        \"New York\": \"NY\",\n",
    "        \"California\": \"CA\",\n",
    "        \"Texas\": \"TX\",\n",
    "        \"Florida\": \"FL\",\n",
    "        \"New Jersey\": \"NJ\",\n",
    "        \"Washington\": \"WA\"\n",
    "    }, columns={\"capital\": \"capital city\", })"
   ]
  },
  {
   "cell_type": "markdown",
   "metadata": {},
   "source": [
    "## Add new Column"
   ]
  },
  {
   "cell_type": "code",
   "execution_count": 20,
   "metadata": {
    "collapsed": true
   },
   "outputs": [],
   "source": [
    "states_df[\"time zone\"] = [\"EST\", \"PST\", \"CST\", \"EST\", \"EST\", \"PST\"]"
   ]
  },
  {
   "cell_type": "code",
   "execution_count": 21,
   "metadata": {
    "collapsed": false
   },
   "outputs": [
    {
     "data": {
      "text/html": [
       "<div>\n",
       "<table border=\"1\" class=\"dataframe\">\n",
       "  <thead>\n",
       "    <tr style=\"text-align: right;\">\n",
       "      <th></th>\n",
       "      <th>capital</th>\n",
       "      <th>population</th>\n",
       "      <th>time zone</th>\n",
       "    </tr>\n",
       "    <tr>\n",
       "      <th>states</th>\n",
       "      <th></th>\n",
       "      <th></th>\n",
       "      <th></th>\n",
       "    </tr>\n",
       "  </thead>\n",
       "  <tbody>\n",
       "    <tr>\n",
       "      <th>New York</th>\n",
       "      <td>Albany</td>\n",
       "      <td>19750000</td>\n",
       "      <td>EST</td>\n",
       "    </tr>\n",
       "    <tr>\n",
       "      <th>California</th>\n",
       "      <td>Sacramento</td>\n",
       "      <td>38800000</td>\n",
       "      <td>PST</td>\n",
       "    </tr>\n",
       "    <tr>\n",
       "      <th>Texas</th>\n",
       "      <td>Austin</td>\n",
       "      <td>26960000</td>\n",
       "      <td>CST</td>\n",
       "    </tr>\n",
       "    <tr>\n",
       "      <th>Florida</th>\n",
       "      <td>Tallahassee</td>\n",
       "      <td>19890000</td>\n",
       "      <td>EST</td>\n",
       "    </tr>\n",
       "    <tr>\n",
       "      <th>New Jersey</th>\n",
       "      <td>Trenton</td>\n",
       "      <td>8938000</td>\n",
       "      <td>EST</td>\n",
       "    </tr>\n",
       "    <tr>\n",
       "      <th>Washington</th>\n",
       "      <td>Olympia</td>\n",
       "      <td>7062000</td>\n",
       "      <td>PST</td>\n",
       "    </tr>\n",
       "  </tbody>\n",
       "</table>\n",
       "</div>"
      ],
      "text/plain": [
       "                capital  population time zone\n",
       "states                                       \n",
       "New York         Albany    19750000       EST\n",
       "California   Sacramento    38800000       PST\n",
       "Texas            Austin    26960000       CST\n",
       "Florida     Tallahassee    19890000       EST\n",
       "New Jersey      Trenton     8938000       EST\n",
       "Washington      Olympia     7062000       PST"
      ]
     },
     "execution_count": 21,
     "metadata": {},
     "output_type": "execute_result"
    }
   ],
   "source": [
    "states_df"
   ]
  },
  {
   "cell_type": "code",
   "execution_count": 22,
   "metadata": {
    "collapsed": true
   },
   "outputs": [],
   "source": [
    "states_df[\"pop per mil\"] = states_df.population / 1E6"
   ]
  },
  {
   "cell_type": "code",
   "execution_count": 24,
   "metadata": {
    "collapsed": false
   },
   "outputs": [
    {
     "data": {
      "text/html": [
       "<div>\n",
       "<table border=\"1\" class=\"dataframe\">\n",
       "  <thead>\n",
       "    <tr style=\"text-align: right;\">\n",
       "      <th></th>\n",
       "      <th>capital</th>\n",
       "      <th>population</th>\n",
       "      <th>time zone</th>\n",
       "      <th>pop per mil</th>\n",
       "    </tr>\n",
       "    <tr>\n",
       "      <th>states</th>\n",
       "      <th></th>\n",
       "      <th></th>\n",
       "      <th></th>\n",
       "      <th></th>\n",
       "    </tr>\n",
       "  </thead>\n",
       "  <tbody>\n",
       "    <tr>\n",
       "      <th>New York</th>\n",
       "      <td>Albany</td>\n",
       "      <td>19750000</td>\n",
       "      <td>EST</td>\n",
       "      <td>19.750</td>\n",
       "    </tr>\n",
       "    <tr>\n",
       "      <th>California</th>\n",
       "      <td>Sacramento</td>\n",
       "      <td>38800000</td>\n",
       "      <td>PST</td>\n",
       "      <td>38.800</td>\n",
       "    </tr>\n",
       "    <tr>\n",
       "      <th>Texas</th>\n",
       "      <td>Austin</td>\n",
       "      <td>26960000</td>\n",
       "      <td>CST</td>\n",
       "      <td>26.960</td>\n",
       "    </tr>\n",
       "    <tr>\n",
       "      <th>Florida</th>\n",
       "      <td>Tallahassee</td>\n",
       "      <td>19890000</td>\n",
       "      <td>EST</td>\n",
       "      <td>19.890</td>\n",
       "    </tr>\n",
       "    <tr>\n",
       "      <th>New Jersey</th>\n",
       "      <td>Trenton</td>\n",
       "      <td>8938000</td>\n",
       "      <td>EST</td>\n",
       "      <td>8.938</td>\n",
       "    </tr>\n",
       "    <tr>\n",
       "      <th>Washington</th>\n",
       "      <td>Olympia</td>\n",
       "      <td>7062000</td>\n",
       "      <td>PST</td>\n",
       "      <td>7.062</td>\n",
       "    </tr>\n",
       "  </tbody>\n",
       "</table>\n",
       "</div>"
      ],
      "text/plain": [
       "                capital  population time zone  pop per mil\n",
       "states                                                    \n",
       "New York         Albany    19750000       EST       19.750\n",
       "California   Sacramento    38800000       PST       38.800\n",
       "Texas            Austin    26960000       CST       26.960\n",
       "Florida     Tallahassee    19890000       EST       19.890\n",
       "New Jersey      Trenton     8938000       EST        8.938\n",
       "Washington      Olympia     7062000       PST        7.062"
      ]
     },
     "execution_count": 24,
     "metadata": {},
     "output_type": "execute_result"
    }
   ],
   "source": [
    "states_df"
   ]
  },
  {
   "cell_type": "markdown",
   "metadata": {},
   "source": [
    "## Making a New Row"
   ]
  },
  {
   "cell_type": "code",
   "execution_count": 30,
   "metadata": {
    "collapsed": false
   },
   "outputs": [
    {
     "data": {
      "text/html": [
       "<div>\n",
       "<table border=\"1\" class=\"dataframe\">\n",
       "  <thead>\n",
       "    <tr style=\"text-align: right;\">\n",
       "      <th></th>\n",
       "      <th>capital</th>\n",
       "      <th>pop per mil</th>\n",
       "      <th>population</th>\n",
       "      <th>time zone</th>\n",
       "    </tr>\n",
       "    <tr>\n",
       "      <th>states</th>\n",
       "      <th></th>\n",
       "      <th></th>\n",
       "      <th></th>\n",
       "      <th></th>\n",
       "    </tr>\n",
       "  </thead>\n",
       "  <tbody>\n",
       "    <tr>\n",
       "      <th>NaN</th>\n",
       "      <td>Albany</td>\n",
       "      <td>19.750</td>\n",
       "      <td>19750000</td>\n",
       "      <td>EST</td>\n",
       "    </tr>\n",
       "    <tr>\n",
       "      <th>NaN</th>\n",
       "      <td>Sacramento</td>\n",
       "      <td>38.800</td>\n",
       "      <td>38800000</td>\n",
       "      <td>PST</td>\n",
       "    </tr>\n",
       "    <tr>\n",
       "      <th>NaN</th>\n",
       "      <td>Austin</td>\n",
       "      <td>26.960</td>\n",
       "      <td>26960000</td>\n",
       "      <td>CST</td>\n",
       "    </tr>\n",
       "    <tr>\n",
       "      <th>NaN</th>\n",
       "      <td>Tallahassee</td>\n",
       "      <td>19.890</td>\n",
       "      <td>19890000</td>\n",
       "      <td>EST</td>\n",
       "    </tr>\n",
       "    <tr>\n",
       "      <th>NaN</th>\n",
       "      <td>Trenton</td>\n",
       "      <td>8.938</td>\n",
       "      <td>8938000</td>\n",
       "      <td>EST</td>\n",
       "    </tr>\n",
       "    <tr>\n",
       "      <th>NaN</th>\n",
       "      <td>Olympia</td>\n",
       "      <td>7.062</td>\n",
       "      <td>7062000</td>\n",
       "      <td>PST</td>\n",
       "    </tr>\n",
       "    <tr>\n",
       "      <th>IL</th>\n",
       "      <td>Springfield</td>\n",
       "      <td>200.000</td>\n",
       "      <td>200000000</td>\n",
       "      <td>CST</td>\n",
       "    </tr>\n",
       "  </tbody>\n",
       "</table>\n",
       "</div>"
      ],
      "text/plain": [
       "            capital  pop per mil  population time zone\n",
       "states                                                \n",
       "NaN          Albany       19.750    19750000       EST\n",
       "NaN      Sacramento       38.800    38800000       PST\n",
       "NaN          Austin       26.960    26960000       CST\n",
       "NaN     Tallahassee       19.890    19890000       EST\n",
       "NaN         Trenton        8.938     8938000       EST\n",
       "NaN         Olympia        7.062     7062000       PST\n",
       "IL      Springfield      200.000   200000000       CST"
      ]
     },
     "execution_count": 30,
     "metadata": {},
     "output_type": "execute_result"
    }
   ],
   "source": [
    "new_row = {\"capital\": [\"Springfield\"],\n",
    "           \"population\": [200000000],\n",
    "           \"time zone\": [\"CST\"],\n",
    "           \"pop per mil\": [200],\n",
    "           \"states\": [\"IL\"]}\n",
    "pd.concat([states_df, pd.DataFrame(new_row)]).set_index(\"states\")"
   ]
  },
  {
   "cell_type": "markdown",
   "metadata": {},
   "source": []
  },
  {
   "cell_type": "markdown",
   "metadata": {},
   "source": [
    "## Detour for PandaSQL"
   ]
  },
  {
   "cell_type": "code",
   "execution_count": 32,
   "metadata": {
    "collapsed": false
   },
   "outputs": [
    {
     "data": {
      "text/html": [
       "<div>\n",
       "<table border=\"1\" class=\"dataframe\">\n",
       "  <thead>\n",
       "    <tr style=\"text-align: right;\">\n",
       "      <th></th>\n",
       "      <th>population</th>\n",
       "    </tr>\n",
       "  </thead>\n",
       "  <tbody>\n",
       "    <tr>\n",
       "      <th>0</th>\n",
       "      <td>19750000</td>\n",
       "    </tr>\n",
       "    <tr>\n",
       "      <th>1</th>\n",
       "      <td>38800000</td>\n",
       "    </tr>\n",
       "    <tr>\n",
       "      <th>2</th>\n",
       "      <td>26960000</td>\n",
       "    </tr>\n",
       "    <tr>\n",
       "      <th>3</th>\n",
       "      <td>19890000</td>\n",
       "    </tr>\n",
       "    <tr>\n",
       "      <th>4</th>\n",
       "      <td>8938000</td>\n",
       "    </tr>\n",
       "    <tr>\n",
       "      <th>5</th>\n",
       "      <td>7062000</td>\n",
       "    </tr>\n",
       "  </tbody>\n",
       "</table>\n",
       "</div>"
      ],
      "text/plain": [
       "   population\n",
       "0    19750000\n",
       "1    38800000\n",
       "2    26960000\n",
       "3    19890000\n",
       "4     8938000\n",
       "5     7062000"
      ]
     },
     "execution_count": 32,
     "metadata": {},
     "output_type": "execute_result"
    }
   ],
   "source": [
    "import pandasql as sql\n",
    "sql.sqldf(\"SELECT population FROM states_df\", locals())"
   ]
  },
  {
   "cell_type": "markdown",
   "metadata": {},
   "source": [
    "## Reading a CSV file"
   ]
  },
  {
   "cell_type": "code",
   "execution_count": 33,
   "metadata": {
    "collapsed": true
   },
   "outputs": [],
   "source": [
    "uber = pd.read_csv(\"data/Uber-Jan-Feb-FOIL.csv\")"
   ]
  },
  {
   "cell_type": "code",
   "execution_count": 39,
   "metadata": {
    "collapsed": false
   },
   "outputs": [],
   "source": [
    "uber.date = pd.to_datetime(uber.date)"
   ]
  },
  {
   "cell_type": "code",
   "execution_count": 40,
   "metadata": {
    "collapsed": false
   },
   "outputs": [
    {
     "data": {
      "text/html": [
       "<div>\n",
       "<table border=\"1\" class=\"dataframe\">\n",
       "  <thead>\n",
       "    <tr style=\"text-align: right;\">\n",
       "      <th></th>\n",
       "      <th>dispatching_base_number</th>\n",
       "      <th>date</th>\n",
       "      <th>active_vehicles</th>\n",
       "      <th>trips</th>\n",
       "    </tr>\n",
       "  </thead>\n",
       "  <tbody>\n",
       "    <tr>\n",
       "      <th>0</th>\n",
       "      <td>B02512</td>\n",
       "      <td>2015-01-01</td>\n",
       "      <td>190</td>\n",
       "      <td>1132</td>\n",
       "    </tr>\n",
       "    <tr>\n",
       "      <th>1</th>\n",
       "      <td>B02765</td>\n",
       "      <td>2015-01-01</td>\n",
       "      <td>225</td>\n",
       "      <td>1765</td>\n",
       "    </tr>\n",
       "    <tr>\n",
       "      <th>2</th>\n",
       "      <td>B02764</td>\n",
       "      <td>2015-01-01</td>\n",
       "      <td>3427</td>\n",
       "      <td>29421</td>\n",
       "    </tr>\n",
       "    <tr>\n",
       "      <th>3</th>\n",
       "      <td>B02682</td>\n",
       "      <td>2015-01-01</td>\n",
       "      <td>945</td>\n",
       "      <td>7679</td>\n",
       "    </tr>\n",
       "    <tr>\n",
       "      <th>4</th>\n",
       "      <td>B02617</td>\n",
       "      <td>2015-01-01</td>\n",
       "      <td>1228</td>\n",
       "      <td>9537</td>\n",
       "    </tr>\n",
       "    <tr>\n",
       "      <th>5</th>\n",
       "      <td>B02598</td>\n",
       "      <td>2015-01-01</td>\n",
       "      <td>870</td>\n",
       "      <td>6903</td>\n",
       "    </tr>\n",
       "    <tr>\n",
       "      <th>6</th>\n",
       "      <td>B02598</td>\n",
       "      <td>2015-01-02</td>\n",
       "      <td>785</td>\n",
       "      <td>4768</td>\n",
       "    </tr>\n",
       "    <tr>\n",
       "      <th>7</th>\n",
       "      <td>B02617</td>\n",
       "      <td>2015-01-02</td>\n",
       "      <td>1137</td>\n",
       "      <td>7065</td>\n",
       "    </tr>\n",
       "    <tr>\n",
       "      <th>8</th>\n",
       "      <td>B02512</td>\n",
       "      <td>2015-01-02</td>\n",
       "      <td>175</td>\n",
       "      <td>875</td>\n",
       "    </tr>\n",
       "    <tr>\n",
       "      <th>9</th>\n",
       "      <td>B02682</td>\n",
       "      <td>2015-01-02</td>\n",
       "      <td>890</td>\n",
       "      <td>5506</td>\n",
       "    </tr>\n",
       "    <tr>\n",
       "      <th>10</th>\n",
       "      <td>B02765</td>\n",
       "      <td>2015-01-02</td>\n",
       "      <td>196</td>\n",
       "      <td>1001</td>\n",
       "    </tr>\n",
       "    <tr>\n",
       "      <th>11</th>\n",
       "      <td>B02764</td>\n",
       "      <td>2015-01-02</td>\n",
       "      <td>3147</td>\n",
       "      <td>19974</td>\n",
       "    </tr>\n",
       "    <tr>\n",
       "      <th>12</th>\n",
       "      <td>B02765</td>\n",
       "      <td>2015-01-03</td>\n",
       "      <td>201</td>\n",
       "      <td>1526</td>\n",
       "    </tr>\n",
       "    <tr>\n",
       "      <th>13</th>\n",
       "      <td>B02617</td>\n",
       "      <td>2015-01-03</td>\n",
       "      <td>1188</td>\n",
       "      <td>10664</td>\n",
       "    </tr>\n",
       "    <tr>\n",
       "      <th>14</th>\n",
       "      <td>B02598</td>\n",
       "      <td>2015-01-03</td>\n",
       "      <td>818</td>\n",
       "      <td>7432</td>\n",
       "    </tr>\n",
       "    <tr>\n",
       "      <th>15</th>\n",
       "      <td>B02682</td>\n",
       "      <td>2015-01-03</td>\n",
       "      <td>915</td>\n",
       "      <td>8010</td>\n",
       "    </tr>\n",
       "    <tr>\n",
       "      <th>16</th>\n",
       "      <td>B02512</td>\n",
       "      <td>2015-01-03</td>\n",
       "      <td>173</td>\n",
       "      <td>1088</td>\n",
       "    </tr>\n",
       "    <tr>\n",
       "      <th>17</th>\n",
       "      <td>B02764</td>\n",
       "      <td>2015-01-03</td>\n",
       "      <td>3215</td>\n",
       "      <td>29729</td>\n",
       "    </tr>\n",
       "    <tr>\n",
       "      <th>18</th>\n",
       "      <td>B02512</td>\n",
       "      <td>2015-01-04</td>\n",
       "      <td>147</td>\n",
       "      <td>791</td>\n",
       "    </tr>\n",
       "    <tr>\n",
       "      <th>19</th>\n",
       "      <td>B02682</td>\n",
       "      <td>2015-01-04</td>\n",
       "      <td>812</td>\n",
       "      <td>5621</td>\n",
       "    </tr>\n",
       "    <tr>\n",
       "      <th>20</th>\n",
       "      <td>B02598</td>\n",
       "      <td>2015-01-04</td>\n",
       "      <td>746</td>\n",
       "      <td>5223</td>\n",
       "    </tr>\n",
       "    <tr>\n",
       "      <th>21</th>\n",
       "      <td>B02765</td>\n",
       "      <td>2015-01-04</td>\n",
       "      <td>183</td>\n",
       "      <td>993</td>\n",
       "    </tr>\n",
       "    <tr>\n",
       "      <th>22</th>\n",
       "      <td>B02617</td>\n",
       "      <td>2015-01-04</td>\n",
       "      <td>1088</td>\n",
       "      <td>7729</td>\n",
       "    </tr>\n",
       "    <tr>\n",
       "      <th>23</th>\n",
       "      <td>B02764</td>\n",
       "      <td>2015-01-04</td>\n",
       "      <td>2862</td>\n",
       "      <td>20441</td>\n",
       "    </tr>\n",
       "    <tr>\n",
       "      <th>24</th>\n",
       "      <td>B02512</td>\n",
       "      <td>2015-01-05</td>\n",
       "      <td>194</td>\n",
       "      <td>984</td>\n",
       "    </tr>\n",
       "    <tr>\n",
       "      <th>25</th>\n",
       "      <td>B02682</td>\n",
       "      <td>2015-01-05</td>\n",
       "      <td>951</td>\n",
       "      <td>6012</td>\n",
       "    </tr>\n",
       "    <tr>\n",
       "      <th>26</th>\n",
       "      <td>B02617</td>\n",
       "      <td>2015-01-05</td>\n",
       "      <td>1218</td>\n",
       "      <td>7899</td>\n",
       "    </tr>\n",
       "    <tr>\n",
       "      <th>27</th>\n",
       "      <td>B02764</td>\n",
       "      <td>2015-01-05</td>\n",
       "      <td>3387</td>\n",
       "      <td>20926</td>\n",
       "    </tr>\n",
       "    <tr>\n",
       "      <th>28</th>\n",
       "      <td>B02598</td>\n",
       "      <td>2015-01-05</td>\n",
       "      <td>907</td>\n",
       "      <td>5798</td>\n",
       "    </tr>\n",
       "    <tr>\n",
       "      <th>29</th>\n",
       "      <td>B02765</td>\n",
       "      <td>2015-01-05</td>\n",
       "      <td>227</td>\n",
       "      <td>1133</td>\n",
       "    </tr>\n",
       "    <tr>\n",
       "      <th>...</th>\n",
       "      <td>...</td>\n",
       "      <td>...</td>\n",
       "      <td>...</td>\n",
       "      <td>...</td>\n",
       "    </tr>\n",
       "    <tr>\n",
       "      <th>324</th>\n",
       "      <td>B02764</td>\n",
       "      <td>2015-02-24</td>\n",
       "      <td>3965</td>\n",
       "      <td>34686</td>\n",
       "    </tr>\n",
       "    <tr>\n",
       "      <th>325</th>\n",
       "      <td>B02512</td>\n",
       "      <td>2015-02-24</td>\n",
       "      <td>247</td>\n",
       "      <td>1869</td>\n",
       "    </tr>\n",
       "    <tr>\n",
       "      <th>326</th>\n",
       "      <td>B02598</td>\n",
       "      <td>2015-02-24</td>\n",
       "      <td>1061</td>\n",
       "      <td>9954</td>\n",
       "    </tr>\n",
       "    <tr>\n",
       "      <th>327</th>\n",
       "      <td>B02682</td>\n",
       "      <td>2015-02-24</td>\n",
       "      <td>1346</td>\n",
       "      <td>12497</td>\n",
       "    </tr>\n",
       "    <tr>\n",
       "      <th>328</th>\n",
       "      <td>B02617</td>\n",
       "      <td>2015-02-24</td>\n",
       "      <td>1456</td>\n",
       "      <td>13719</td>\n",
       "    </tr>\n",
       "    <tr>\n",
       "      <th>329</th>\n",
       "      <td>B02765</td>\n",
       "      <td>2015-02-24</td>\n",
       "      <td>698</td>\n",
       "      <td>6390</td>\n",
       "    </tr>\n",
       "    <tr>\n",
       "      <th>330</th>\n",
       "      <td>B02512</td>\n",
       "      <td>2015-02-25</td>\n",
       "      <td>246</td>\n",
       "      <td>1647</td>\n",
       "    </tr>\n",
       "    <tr>\n",
       "      <th>331</th>\n",
       "      <td>B02598</td>\n",
       "      <td>2015-02-25</td>\n",
       "      <td>1076</td>\n",
       "      <td>9405</td>\n",
       "    </tr>\n",
       "    <tr>\n",
       "      <th>332</th>\n",
       "      <td>B02765</td>\n",
       "      <td>2015-02-25</td>\n",
       "      <td>706</td>\n",
       "      <td>6178</td>\n",
       "    </tr>\n",
       "    <tr>\n",
       "      <th>333</th>\n",
       "      <td>B02682</td>\n",
       "      <td>2015-02-25</td>\n",
       "      <td>1395</td>\n",
       "      <td>12693</td>\n",
       "    </tr>\n",
       "    <tr>\n",
       "      <th>334</th>\n",
       "      <td>B02617</td>\n",
       "      <td>2015-02-25</td>\n",
       "      <td>1473</td>\n",
       "      <td>12811</td>\n",
       "    </tr>\n",
       "    <tr>\n",
       "      <th>335</th>\n",
       "      <td>B02764</td>\n",
       "      <td>2015-02-25</td>\n",
       "      <td>3934</td>\n",
       "      <td>31957</td>\n",
       "    </tr>\n",
       "    <tr>\n",
       "      <th>336</th>\n",
       "      <td>B02598</td>\n",
       "      <td>2015-02-26</td>\n",
       "      <td>1134</td>\n",
       "      <td>10661</td>\n",
       "    </tr>\n",
       "    <tr>\n",
       "      <th>337</th>\n",
       "      <td>B02617</td>\n",
       "      <td>2015-02-26</td>\n",
       "      <td>1539</td>\n",
       "      <td>14461</td>\n",
       "    </tr>\n",
       "    <tr>\n",
       "      <th>338</th>\n",
       "      <td>B02682</td>\n",
       "      <td>2015-02-26</td>\n",
       "      <td>1465</td>\n",
       "      <td>13814</td>\n",
       "    </tr>\n",
       "    <tr>\n",
       "      <th>339</th>\n",
       "      <td>B02512</td>\n",
       "      <td>2015-02-26</td>\n",
       "      <td>243</td>\n",
       "      <td>1797</td>\n",
       "    </tr>\n",
       "    <tr>\n",
       "      <th>340</th>\n",
       "      <td>B02765</td>\n",
       "      <td>2015-02-26</td>\n",
       "      <td>745</td>\n",
       "      <td>6744</td>\n",
       "    </tr>\n",
       "    <tr>\n",
       "      <th>341</th>\n",
       "      <td>B02764</td>\n",
       "      <td>2015-02-26</td>\n",
       "      <td>4101</td>\n",
       "      <td>36091</td>\n",
       "    </tr>\n",
       "    <tr>\n",
       "      <th>342</th>\n",
       "      <td>B02765</td>\n",
       "      <td>2015-02-27</td>\n",
       "      <td>786</td>\n",
       "      <td>7563</td>\n",
       "    </tr>\n",
       "    <tr>\n",
       "      <th>343</th>\n",
       "      <td>B02617</td>\n",
       "      <td>2015-02-27</td>\n",
       "      <td>1551</td>\n",
       "      <td>14677</td>\n",
       "    </tr>\n",
       "    <tr>\n",
       "      <th>344</th>\n",
       "      <td>B02598</td>\n",
       "      <td>2015-02-27</td>\n",
       "      <td>1114</td>\n",
       "      <td>10755</td>\n",
       "    </tr>\n",
       "    <tr>\n",
       "      <th>345</th>\n",
       "      <td>B02512</td>\n",
       "      <td>2015-02-27</td>\n",
       "      <td>272</td>\n",
       "      <td>2056</td>\n",
       "    </tr>\n",
       "    <tr>\n",
       "      <th>346</th>\n",
       "      <td>B02764</td>\n",
       "      <td>2015-02-27</td>\n",
       "      <td>4253</td>\n",
       "      <td>38780</td>\n",
       "    </tr>\n",
       "    <tr>\n",
       "      <th>347</th>\n",
       "      <td>B02682</td>\n",
       "      <td>2015-02-27</td>\n",
       "      <td>1510</td>\n",
       "      <td>14975</td>\n",
       "    </tr>\n",
       "    <tr>\n",
       "      <th>348</th>\n",
       "      <td>B02598</td>\n",
       "      <td>2015-02-28</td>\n",
       "      <td>994</td>\n",
       "      <td>10319</td>\n",
       "    </tr>\n",
       "    <tr>\n",
       "      <th>349</th>\n",
       "      <td>B02764</td>\n",
       "      <td>2015-02-28</td>\n",
       "      <td>3952</td>\n",
       "      <td>39812</td>\n",
       "    </tr>\n",
       "    <tr>\n",
       "      <th>350</th>\n",
       "      <td>B02617</td>\n",
       "      <td>2015-02-28</td>\n",
       "      <td>1372</td>\n",
       "      <td>14022</td>\n",
       "    </tr>\n",
       "    <tr>\n",
       "      <th>351</th>\n",
       "      <td>B02682</td>\n",
       "      <td>2015-02-28</td>\n",
       "      <td>1386</td>\n",
       "      <td>14472</td>\n",
       "    </tr>\n",
       "    <tr>\n",
       "      <th>352</th>\n",
       "      <td>B02512</td>\n",
       "      <td>2015-02-28</td>\n",
       "      <td>230</td>\n",
       "      <td>1803</td>\n",
       "    </tr>\n",
       "    <tr>\n",
       "      <th>353</th>\n",
       "      <td>B02765</td>\n",
       "      <td>2015-02-28</td>\n",
       "      <td>747</td>\n",
       "      <td>7753</td>\n",
       "    </tr>\n",
       "  </tbody>\n",
       "</table>\n",
       "<p>354 rows × 4 columns</p>\n",
       "</div>"
      ],
      "text/plain": [
       "    dispatching_base_number       date  active_vehicles  trips\n",
       "0                    B02512 2015-01-01              190   1132\n",
       "1                    B02765 2015-01-01              225   1765\n",
       "2                    B02764 2015-01-01             3427  29421\n",
       "3                    B02682 2015-01-01              945   7679\n",
       "4                    B02617 2015-01-01             1228   9537\n",
       "5                    B02598 2015-01-01              870   6903\n",
       "6                    B02598 2015-01-02              785   4768\n",
       "7                    B02617 2015-01-02             1137   7065\n",
       "8                    B02512 2015-01-02              175    875\n",
       "9                    B02682 2015-01-02              890   5506\n",
       "10                   B02765 2015-01-02              196   1001\n",
       "11                   B02764 2015-01-02             3147  19974\n",
       "12                   B02765 2015-01-03              201   1526\n",
       "13                   B02617 2015-01-03             1188  10664\n",
       "14                   B02598 2015-01-03              818   7432\n",
       "15                   B02682 2015-01-03              915   8010\n",
       "16                   B02512 2015-01-03              173   1088\n",
       "17                   B02764 2015-01-03             3215  29729\n",
       "18                   B02512 2015-01-04              147    791\n",
       "19                   B02682 2015-01-04              812   5621\n",
       "20                   B02598 2015-01-04              746   5223\n",
       "21                   B02765 2015-01-04              183    993\n",
       "22                   B02617 2015-01-04             1088   7729\n",
       "23                   B02764 2015-01-04             2862  20441\n",
       "24                   B02512 2015-01-05              194    984\n",
       "25                   B02682 2015-01-05              951   6012\n",
       "26                   B02617 2015-01-05             1218   7899\n",
       "27                   B02764 2015-01-05             3387  20926\n",
       "28                   B02598 2015-01-05              907   5798\n",
       "29                   B02765 2015-01-05              227   1133\n",
       "..                      ...        ...              ...    ...\n",
       "324                  B02764 2015-02-24             3965  34686\n",
       "325                  B02512 2015-02-24              247   1869\n",
       "326                  B02598 2015-02-24             1061   9954\n",
       "327                  B02682 2015-02-24             1346  12497\n",
       "328                  B02617 2015-02-24             1456  13719\n",
       "329                  B02765 2015-02-24              698   6390\n",
       "330                  B02512 2015-02-25              246   1647\n",
       "331                  B02598 2015-02-25             1076   9405\n",
       "332                  B02765 2015-02-25              706   6178\n",
       "333                  B02682 2015-02-25             1395  12693\n",
       "334                  B02617 2015-02-25             1473  12811\n",
       "335                  B02764 2015-02-25             3934  31957\n",
       "336                  B02598 2015-02-26             1134  10661\n",
       "337                  B02617 2015-02-26             1539  14461\n",
       "338                  B02682 2015-02-26             1465  13814\n",
       "339                  B02512 2015-02-26              243   1797\n",
       "340                  B02765 2015-02-26              745   6744\n",
       "341                  B02764 2015-02-26             4101  36091\n",
       "342                  B02765 2015-02-27              786   7563\n",
       "343                  B02617 2015-02-27             1551  14677\n",
       "344                  B02598 2015-02-27             1114  10755\n",
       "345                  B02512 2015-02-27              272   2056\n",
       "346                  B02764 2015-02-27             4253  38780\n",
       "347                  B02682 2015-02-27             1510  14975\n",
       "348                  B02598 2015-02-28              994  10319\n",
       "349                  B02764 2015-02-28             3952  39812\n",
       "350                  B02617 2015-02-28             1372  14022\n",
       "351                  B02682 2015-02-28             1386  14472\n",
       "352                  B02512 2015-02-28              230   1803\n",
       "353                  B02765 2015-02-28              747   7753\n",
       "\n",
       "[354 rows x 4 columns]"
      ]
     },
     "execution_count": 40,
     "metadata": {},
     "output_type": "execute_result"
    }
   ],
   "source": [
    "uber"
   ]
  },
  {
   "cell_type": "markdown",
   "metadata": {},
   "source": [
    "## Writing to a JSON file"
   ]
  },
  {
   "cell_type": "code",
   "execution_count": 41,
   "metadata": {
    "collapsed": true
   },
   "outputs": [],
   "source": [
    "uber.to_json(\"sample.json\")"
   ]
  },
  {
   "cell_type": "markdown",
   "metadata": {},
   "source": [
    "## Writing to CSV file"
   ]
  },
  {
   "cell_type": "code",
   "execution_count": 44,
   "metadata": {
    "collapsed": true
   },
   "outputs": [],
   "source": [
    "uber.to_csv(\"sample.csv\", index=False, header=False)"
   ]
  },
  {
   "cell_type": "code",
   "execution_count": null,
   "metadata": {
    "collapsed": true
   },
   "outputs": [],
   "source": []
  }
 ],
 "metadata": {
  "kernelspec": {
   "display_name": "Python 3",
   "language": "python",
   "name": "python3"
  },
  "language_info": {
   "codemirror_mode": {
    "name": "ipython",
    "version": 3
   },
   "file_extension": ".py",
   "mimetype": "text/x-python",
   "name": "python",
   "nbconvert_exporter": "python",
   "pygments_lexer": "ipython3",
   "version": "3.5.2"
  }
 },
 "nbformat": 4,
 "nbformat_minor": 1
}
