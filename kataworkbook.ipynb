{
 "cells": [
  {
   "cell_type": "code",
   "execution_count": 3,
   "metadata": {
    "collapsed": true
   },
   "outputs": [],
   "source": [
    "def hash(astring, tablesize):\n",
    "    sum = 0 \n",
    "    for pos in range(len(astring)):\n",
    "        sum = sum + ord(astring[pos])\n",
    "        \n",
    "    return sum % tablesize"
   ]
  },
  {
   "cell_type": "code",
   "execution_count": 4,
   "metadata": {
    "collapsed": false
   },
   "outputs": [
    {
     "name": "stdout",
     "output_type": "stream",
     "text": [
      "2\n"
     ]
    }
   ],
   "source": [
    "print(hash(\"hello\", 10))"
   ]
  },
  {
   "cell_type": "code",
   "execution_count": 20,
   "metadata": {
    "collapsed": true
   },
   "outputs": [],
   "source": [
    "def hash2(astring, tablesize):\n",
    "    return sum([ord(x) for x in astring]) % tablesize"
   ]
  },
  {
   "cell_type": "code",
   "execution_count": 25,
   "metadata": {
    "collapsed": false
   },
   "outputs": [
    {
     "name": "stdout",
     "output_type": "stream",
     "text": [
      "4\n"
     ]
    }
   ],
   "source": [
    "print(hash2(\"dog\", 10))"
   ]
  },
  {
   "cell_type": "code",
   "execution_count": 26,
   "metadata": {
    "collapsed": false
   },
   "outputs": [
    {
     "name": "stdout",
     "output_type": "stream",
     "text": [
      "4\n"
     ]
    }
   ],
   "source": [
    "print(hash2(\"god\", 10))"
   ]
  },
  {
   "cell_type": "code",
   "execution_count": 33,
   "metadata": {
    "collapsed": true
   },
   "outputs": [],
   "source": [
    "def anagram(s1, s2):\n",
    "    if s1.lower() == s2.lower():\n",
    "        return False\n",
    "    return sum([ord(x) for x in s1.lower()]) == sum([ord(x) for x in s2.lower()])"
   ]
  },
  {
   "cell_type": "code",
   "execution_count": 35,
   "metadata": {
    "collapsed": false
   },
   "outputs": [
    {
     "name": "stdout",
     "output_type": "stream",
     "text": [
      "True\n"
     ]
    }
   ],
   "source": [
    "print(anagram(\"Dog\", \"god\"))"
   ]
  },
  {
   "cell_type": "code",
   "execution_count": 21,
   "metadata": {
    "collapsed": false
   },
   "outputs": [],
   "source": [
    "def insertion_sort(arr):\n",
    "    try:\n",
    "        value = arr[-1]\n",
    "    except IndexError:\n",
    "        return []\n",
    "\n",
    "    for i in range(len(arr) - 1, 0, -1):\n",
    "        if i == 1 and value < arr[i - 1]:\n",
    "            arr[1] = arr[0]\n",
    "            a = [print(arr[x], end=' ') for x in range(len(arr))]\n",
    "            print()\n",
    "            arr[0] = value\n",
    "            break\n",
    "        elif value < arr[i - 1]:\n",
    "            arr[i] = arr[i - 1]\n",
    "        else:\n",
    "            arr[i] = value\n",
    "            break\n",
    "        a = [print(arr[x], end=' ') for x in range(len(arr))]\n",
    "        print()\n",
    "    a = [print(arr[x], end=' ') for x in range(len(arr))]\n",
    "    return arr\n",
    "    "
   ]
  },
  {
   "cell_type": "code",
   "execution_count": 22,
   "metadata": {
    "collapsed": false
   },
   "outputs": [
    {
     "name": "stdout",
     "output_type": "stream",
     "text": [
      "1 2 3 5 6 7 7 \n",
      "1 2 3 5 6 6 7 \n",
      "1 2 3 5 5 6 7 \n",
      "1 2 3 4 5 6 7 "
     ]
    },
    {
     "data": {
      "text/plain": [
       "[1, 2, 3, 4, 5, 6, 7]"
      ]
     },
     "execution_count": 22,
     "metadata": {},
     "output_type": "execute_result"
    }
   ],
   "source": [
    "insertion_sort([1, 2, 3, 5, 6, 7, 4])"
   ]
  },
  {
   "cell_type": "code",
   "execution_count": 23,
   "metadata": {
    "collapsed": false
   },
   "outputs": [
    {
     "name": "stdout",
     "output_type": "stream",
     "text": [
      "2\n",
      "2 3 4 5 6 7 8 9 10 1\n",
      "2 3 4 5 6 7 8 9 10 10 \n",
      "2 3 4 5 6 7 8 9 9 10 \n",
      "2 3 4 5 6 7 8 8 9 10 \n",
      "2 3 4 5 6 7 7 8 9 10 \n",
      "2 3 4 5 6 6 7 8 9 10 \n",
      "2 3 4 5 5 6 7 8 9 10 \n",
      "2 3 4 4 5 6 7 8 9 10 \n",
      "2 3 3 4 5 6 7 8 9 10 \n",
      "2 2 3 4 5 6 7 8 9 10 \n",
      "1 2 3 4 5 6 7 8 9 10 "
     ]
    },
    {
     "data": {
      "text/plain": [
       "[1, 2, 3, 4, 5, 6, 7, 8, 9, 10]"
      ]
     },
     "execution_count": 23,
     "metadata": {},
     "output_type": "execute_result"
    }
   ],
   "source": [
    "length = str(input())\n",
    "array = input()\n",
    "arr = array.split(' ')\n",
    "arr = [int(arr[x]) for x in range(len(arr))]\n",
    "insertion_sort(arr)"
   ]
  },
  {
   "cell_type": "code",
   "execution_count": 9,
   "metadata": {
    "collapsed": false
   },
   "outputs": [
    {
     "name": "stdout",
     "output_type": "stream",
     "text": [
      "1\n"
     ]
    }
   ],
   "source": [
    "for i in range(1, 0, -1):\n",
    "    print(i)"
   ]
  },
  {
   "cell_type": "code",
   "execution_count": null,
   "metadata": {
    "collapsed": true
   },
   "outputs": [],
   "source": []
  }
 ],
 "metadata": {
  "kernelspec": {
   "display_name": "Python 3",
   "language": "python",
   "name": "python3"
  },
  "language_info": {
   "codemirror_mode": {
    "name": "ipython",
    "version": 3
   },
   "file_extension": ".py",
   "mimetype": "text/x-python",
   "name": "python",
   "nbconvert_exporter": "python",
   "pygments_lexer": "ipython3",
   "version": "3.5.2"
  }
 },
 "nbformat": 4,
 "nbformat_minor": 1
}
