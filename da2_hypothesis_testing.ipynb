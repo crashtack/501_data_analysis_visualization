{
 "cells": [
  {
   "cell_type": "markdown",
   "metadata": {},
   "source": [
    "One-Tailed TEst: Are the valuse oin one distributionsinificantly larger/smaller than the valuse in another one?\n",
    "\n",
    "Two-Tailed Test: Are the values in one distribution at all significantly different then the values in the ather one?\n",
    "\n",
    "**t-Test**: To be used for vaguely-Gaussian data ONLY\n",
    "\n",
    "**Mann-Whitney-Wilcox U-Test**: To be used for pretty much any distribution"
   ]
  },
  {
   "cell_type": "code",
   "execution_count": 1,
   "metadata": {
    "collapsed": true
   },
   "outputs": [],
   "source": [
    "import pandas as pd\n",
    "import pandasql as sql\n",
    "import matplotlib.pyplot as plt\n",
    "import numpy as np"
   ]
  },
  {
   "cell_type": "code",
   "execution_count": 2,
   "metadata": {
    "collapsed": true
   },
   "outputs": [],
   "source": [
    "imdb = pd.read_csv(\"data/movie_metadata.csv\")"
   ]
  },
  {
   "cell_type": "code",
   "execution_count": 17,
   "metadata": {
    "collapsed": false
   },
   "outputs": [],
   "source": [
    "nick_score = sql.sqldf(\"SELECT imdb_score FROM imdb WHERE actor_1_name == 'Nicolas Cage'\", locals())\n",
    "nicks = imdb[imdb.actor_1_name == \"Nicolas Cage\"]\n",
    "not_nick = imdb[imdb.actor_1_name != \"Nicolas Cage\"]\n",
    "# nicks"
   ]
  },
  {
   "cell_type": "code",
   "execution_count": 16,
   "metadata": {
    "collapsed": false
   },
   "outputs": [
    {
     "data": {
      "image/png": "[encoded data removed]",
      "text/plain": [
       "<matplotlib.figure.Figure at 0x7f5d8074aa58>"
      ]
     },
     "metadata": {},
     "output_type": "display_data"
    },
    {
     "data": {
      "text/plain": [
       "count    33.000000\n",
       "mean      6.118182\n",
       "std       1.121231\n",
       "min       3.100000\n",
       "25%       5.900000\n",
       "50%       6.300000\n",
       "75%       6.700000\n",
       "max       7.700000\n",
       "Name: imdb_score, dtype: float64"
      ]
     },
     "execution_count": 16,
     "metadata": {},
     "output_type": "execute_result"
    }
   ],
   "source": [
    "data = nicks.imdb_score\n",
    "plt.figure(figsize=(10, 3))\n",
    "plt.hist(data, bins=np.arange(0, 10, .2), color='green')\n",
    "plt.xlabel(\"IMDB Score\")\n",
    "plt.show()\n",
    "data.describe()"
   ]
  },
  {
   "cell_type": "code",
   "execution_count": 18,
   "metadata": {
    "collapsed": false
   },
   "outputs": [
    {
     "data": {
      "text/html": [
       "<div>\n",
       "<table border=\"1\" class=\"dataframe\">\n",
       "  <thead>\n",
       "    <tr style=\"text-align: right;\">\n",
       "      <th></th>\n",
       "      <th>title_year</th>\n",
       "      <th>gross</th>\n",
       "    </tr>\n",
       "  </thead>\n",
       "  <tbody>\n",
       "    <tr>\n",
       "      <th>count</th>\n",
       "      <td>4156.000000</td>\n",
       "      <td>4.156000e+03</td>\n",
       "    </tr>\n",
       "    <tr>\n",
       "      <th>mean</th>\n",
       "      <td>2003.267565</td>\n",
       "      <td>4.850314e+07</td>\n",
       "    </tr>\n",
       "    <tr>\n",
       "      <th>std</th>\n",
       "      <td>9.945465</td>\n",
       "      <td>6.846548e+07</td>\n",
       "    </tr>\n",
       "    <tr>\n",
       "      <th>min</th>\n",
       "      <td>1920.000000</td>\n",
       "      <td>1.620000e+02</td>\n",
       "    </tr>\n",
       "    <tr>\n",
       "      <th>25%</th>\n",
       "      <td>1999.000000</td>\n",
       "      <td>5.355042e+06</td>\n",
       "    </tr>\n",
       "    <tr>\n",
       "      <th>50%</th>\n",
       "      <td>2005.000000</td>\n",
       "      <td>2.552969e+07</td>\n",
       "    </tr>\n",
       "    <tr>\n",
       "      <th>75%</th>\n",
       "      <td>2010.000000</td>\n",
       "      <td>6.231942e+07</td>\n",
       "    </tr>\n",
       "    <tr>\n",
       "      <th>max</th>\n",
       "      <td>2016.000000</td>\n",
       "      <td>7.605058e+08</td>\n",
       "    </tr>\n",
       "  </tbody>\n",
       "</table>\n",
       "</div>"
      ],
      "text/plain": [
       "        title_year         gross\n",
       "count  4156.000000  4.156000e+03\n",
       "mean   2003.267565  4.850314e+07\n",
       "std       9.945465  6.846548e+07\n",
       "min    1920.000000  1.620000e+02\n",
       "25%    1999.000000  5.355042e+06\n",
       "50%    2005.000000  2.552969e+07\n",
       "75%    2010.000000  6.231942e+07\n",
       "max    2016.000000  7.605058e+08"
      ]
     },
     "execution_count": 18,
     "metadata": {},
     "output_type": "execute_result"
    }
   ],
   "source": [
    "imdb[[\"title_year\", \"gross\"]].dropna().describe()"
   ]
  },
  {
   "cell_type": "code",
   "execution_count": null,
   "metadata": {
    "collapsed": true
   },
   "outputs": [],
   "source": []
  }
 ],
 "metadata": {
  "kernelspec": {
   "display_name": "Python 3",
   "language": "python",
   "name": "python3"
  },
  "language_info": {
   "codemirror_mode": {
    "name": "ipython",
    "version": 3
   },
   "file_extension": ".py",
   "mimetype": "text/x-python",
   "name": "python",
   "nbconvert_exporter": "python",
   "pygments_lexer": "ipython3",
   "version": "3.5.2"
  }
 },
 "nbformat": 4,
 "nbformat_minor": 1
}
